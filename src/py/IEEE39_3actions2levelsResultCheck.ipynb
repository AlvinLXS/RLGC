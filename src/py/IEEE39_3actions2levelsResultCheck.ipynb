{
 "cells": [
  {
   "cell_type": "code",
   "execution_count": 21,
   "metadata": {
    "collapsed": true
   },
   "outputs": [],
   "source": [
    "%matplotlib inline\n",
    "\n",
    "from py4j.java_gateway import JavaGateway\n",
    "from py4j.java_gateway import GatewayParameters\n",
    "\n",
    "import os\n",
    "import gym\n",
    "import sys\n",
    "import numpy as np\n",
    "import tensorflow as tf\n",
    "import matplotlib.pyplot as plt\n",
    "from gym import wrappers\n",
    "from datetime import datetime\n",
    "import time\n",
    "from q_learning_bins import plot_running_avg\n",
    "from PowerDynSimEnvDef_v6 import PowerDynSimEnv, refer_new, referback"
   ]
  },
  {
   "cell_type": "code",
   "execution_count": 23,
   "metadata": {},
   "outputs": [
    {
     "name": "stdout",
     "output_type": "stream",
     "text": [
      "4 19 3 2\n"
     ]
    }
   ],
   "source": [
    "java_port = 25006\n",
    "\n",
    "jar_file = \"\\lib\\RLGCJavaServer0.89.jar\"\n",
    "\n",
    "a = os.path.abspath(os.path.dirname(__file__))\n",
    "\n",
    "folder_dir = a[:-7]\n",
    "\n",
    "jar_path = folder_dir + jar_file\n",
    "\n",
    "case_files_array = []\n",
    "\n",
    "case_files_array.append(folder_dir + '/testData/IEEE39/IEEE39bus_multiloads_xfmr4_smallX_v30.raw')\n",
    "\n",
    "case_files_array.append(folder_dir + '/testData/IEEE39/IEEE39bus_3AC.dyr')\n",
    "\n",
    "dyn_config_file = folder_dir + '/testData/IEEE39/json/IEEE39_dyn_config.json'\n",
    "\n",
    "rl_config_file = repo_path + '/testData/IEEE39/json/IEEE39_RL_loadShedding_3motor_2levels.json'\n",
    "\n",
    "import os.path\n",
    "import sys\n",
    "# This is to fix the issue of \"ModuleNotFoundError\" below\n",
    "sys.path.append(os.path.join(os.path.dirname(__file__), '..'))  \n",
    "\n",
    "\n",
    "env = PowerDynSimEnv(case_files_array,dyn_config_file,rl_config_file,jar_path,java_port)\n"
   ]
  },
  {
   "cell_type": "code",
   "execution_count": 5,
   "metadata": {},
   "outputs": [
    {
     "name": "stdout",
     "output_type": "stream",
     "text": [
      "[1, 0, 1]\n",
      "5\n"
     ]
    }
   ],
   "source": [
    "print(refer_new(5, cnts))\n",
    "print(referback([1,0,1], cnts))"
   ]
  },
  {
   "cell_type": "code",
   "execution_count": 3,
   "metadata": {
    "collapsed": true
   },
   "outputs": [],
   "source": [
    "datafolder = \"./storedData008\"\n",
    "\n",
    "\n",
    "def episode_rewards(step_rewards, step_status):\n",
    "    result = list()\n",
    "    start = 0\n",
    "    for i, done in enumerate(step_status):\n",
    "        if done:\n",
    "            result.append(sum(step_rewards[start:i+1]))\n",
    "            start = i+1\n",
    "    result.append(sum(step_rewards[start:]))\n",
    "    return np.array(result)\n",
    "\n",
    "def episode_data(step_data, step_status):\n",
    "    result = list()\n",
    "    start = 0\n",
    "    for i, done in enumerate(step_status):\n",
    "        if done:\n",
    "            result.append(sum(step_data[start:i+1]))\n",
    "            start = i+1\n",
    "    result.append(sum(step_data[start:]))\n",
    "    return np.array(result)"
   ]
  },
  {
   "cell_type": "code",
   "execution_count": 36,
   "metadata": {
    "collapsed": true
   },
   "outputs": [],
   "source": [
    "dataname = \"_lr_5e-05_multistep_randftd_3motor2action_prenull_60w.npy\"\n",
    "step_rewards = np.load(os.path.join(datafolder, \"step_rewards\" + dataname))\n",
    "step_actions = np.load(os.path.join(datafolder, \"step_actions\" + dataname))\n",
    "step_observations = np.load(os.path.join(datafolder, \"step_observations\" + dataname))\n",
    "step_status = np.load(os.path.join(datafolder, \"step_status\" + dataname))\n",
    "step_starttime = np.load(os.path.join(datafolder, \"step_starttime\" + dataname))\n",
    "step_durationtime = np.load(os.path.join(datafolder, \"step_durationtime\" + dataname))"
   ]
  },
  {
   "cell_type": "code",
   "execution_count": 37,
   "metadata": {},
   "outputs": [
    {
     "name": "stdout",
     "output_type": "stream",
     "text": [
      "total episodes: 5863\n"
     ]
    }
   ],
   "source": [
    "rewards = episode_rewards(step_rewards, step_status)\n",
    "print(\"total episodes: %d\" % (sum(step_status)))"
   ]
  },
  {
   "cell_type": "code",
   "execution_count": 38,
   "metadata": {},
   "outputs": [
    {
     "data": {
      "image/png": "[encoded data removed]",
      "text/plain": [
       "<matplotlib.figure.Figure at 0x7f05801447f0>"
      ]
     },
     "metadata": {},
     "output_type": "display_data"
    }
   ],
   "source": [
    "plot_running_avg(rewards)"
   ]
  },
  {
   "cell_type": "code",
   "execution_count": 40,
   "metadata": {
    "collapsed": true
   },
   "outputs": [],
   "source": [
    "def getsingle(step_status, step_actions, step_observations, epindex):\n",
    "    endIndex = np.where(step_status == True)[0]\n",
    "    single_actions = step_actions[endIndex[epindex]:endIndex[epindex + 1]]\n",
    "    single_observations = step_observations[endIndex[epindex]:endIndex[epindex + 1]]\n",
    "    return single_actions, single_observations"
   ]
  },
  {
   "cell_type": "code",
   "execution_count": 41,
   "metadata": {
    "collapsed": true
   },
   "outputs": [],
   "source": [
    "epindex = 2500\n",
    "single2500actions, single2500observations = getsingle(step_status, step_actions, step_observations, epindex)"
   ]
  },
  {
   "cell_type": "code",
   "execution_count": 42,
   "metadata": {},
   "outputs": [
    {
     "data": {
      "text/plain": [
       "array([0, 0, 0, 0, 0, 0, 0, 0, 0, 0, 0, 0, 0, 0, 0, 0, 0, 0, 0, 0, 0, 0, 0,\n",
       "       0, 0, 0, 0, 0, 0, 0, 0, 0, 0])"
      ]
     },
     "execution_count": 42,
     "metadata": {},
     "output_type": "execute_result"
    }
   ],
   "source": [
    "single2500actions"
   ]
  },
  {
   "cell_type": "code",
   "execution_count": 27,
   "metadata": {
    "collapsed": true
   },
   "outputs": [],
   "source": [
    "from baselines import deepq\n",
    "import baselines.common.tf_util as U\n",
    "def test():\n",
    "    tf.reset_default_graph()\n",
    "    act = deepq.load(\"./previous_model/IEEE39_multistep_randbus_3motor2action_prenull_008_lr_5e-05_60w.pkl\")\n",
    "    with tf.variable_scope(\"deepq\", reuse=True):\n",
    "        eps = tf.get_variable(\"eps\")\n",
    "    U.set_value(eps, 0)\n",
    "    print(\"Check epsilon is: %f\" % U.eval(eps))\n",
    "    \n",
    "    # candidates = [1, 3, 14, 26]\n",
    "    # candidates_not_stall = [4,20,24]\n",
    "    obs, done = env._validate(1,3,0.05,0.05), False\n",
    "    episode_rew = 0\n",
    "    actions = list()\n",
    "    observations = list()\n",
    "    #noise = 0.01 * np.random.randn(4,8,301)\n",
    "    i = 0\n",
    "    while not done:\n",
    "\n",
    "        action = act(obs[None])[0]\n",
    "\n",
    "\n",
    "        observations.append(obs)\n",
    "        actions.append(action)\n",
    "        obs, rew, done, _ = env.step(action)\n",
    "        #obs = obs * (1 + noise[:,:,i].flatten())\n",
    "        #i += 1\n",
    "        \n",
    "        episode_rew += rew\n",
    "    print(\"Episode reward\", episode_rew)\n",
    "\n",
    "    return np.array(actions), np.array(observations)"
   ]
  },
  {
   "cell_type": "code",
   "execution_count": 20,
   "metadata": {
    "collapsed": true
   },
   "outputs": [],
   "source": [
    "def manual_test():\n",
    "\n",
    "    \n",
    "    obs, done = env._validate(1,3,0.05,0.08), False\n",
    "    episode_rew = 0\n",
    "    actions = list()\n",
    "    observations = list()\n",
    "    cnt = 0\n",
    "    while not done:\n",
    "  \n",
    "        #action = act(obs[None])[0]\n",
    "        #action_lst = [3,3,0,0]\n",
    "        #action = refer_back(action_lst, cnts)\n",
    "        \n",
    "        action = 0\n",
    "        \n",
    "        if 1<= cnt <= 4:\n",
    "            action_lst = [0,1,0]\n",
    "            action = referback(action_lst, cnts)            \n",
    "        \n",
    "        if 6 <=cnt <= 7: #or cnt == 12: # or cnt == 13:\n",
    "            action_lst = [0,0,1]\n",
    "            action = referback(action_lst, cnts)        \n",
    "        #if cnt == 4: #or cnt == 15:\n",
    "        #    action_lst = [0,1,1]\n",
    "        #    action = referback(action_lst, cnts)\n",
    "        #if cnt >= 16:# or cnt == 16:\n",
    "        #    action_lst = [2,2,2]\n",
    "        #    action = referback(action_lst, cnts)\n",
    "        \n",
    "        #print(action)\n",
    "        observations.append(obs)\n",
    "        actions.append(action)\n",
    "        obs, rew, done, _ = env.step(action)\n",
    "        episode_rew += rew\n",
    "        cnt += 1\n",
    "    print(\"Episode reward\", episode_rew)\n",
    "\n",
    "    return np.array(actions), np.array(observations)"
   ]
  },
  {
   "cell_type": "code",
   "execution_count": 28,
   "metadata": {},
   "outputs": [
    {
     "name": "stdout",
     "output_type": "stream",
     "text": [
      "INFO:tensorflow:Restoring parameters from /tmp/tmpu6sx81pw/model\n",
      "Check epsilon is: 0.000000\n",
      "Episode reward -1829.3876867011588\n"
     ]
    }
   ],
   "source": [
    "test_actions, test_observations = test()\n",
    "#test_actions, test_observations = manual_test()"
   ]
  },
  {
   "cell_type": "code",
   "execution_count": 32,
   "metadata": {
    "collapsed": true
   },
   "outputs": [],
   "source": [
    "noaction_ob = test_observations"
   ]
  },
  {
   "cell_type": "code",
   "execution_count": 9,
   "metadata": {
    "collapsed": true
   },
   "outputs": [],
   "source": [
    "onepreaction_ob = test_observations"
   ]
  },
  {
   "cell_type": "code",
   "execution_count": 12,
   "metadata": {
    "collapsed": true
   },
   "outputs": [],
   "source": [
    "validonepreaction_ob = test_observations"
   ]
  },
  {
   "cell_type": "code",
   "execution_count": 15,
   "metadata": {
    "collapsed": true
   },
   "outputs": [],
   "source": [
    "purevalidaction_ob = test_observations"
   ]
  },
  {
   "cell_type": "code",
   "execution_count": null,
   "metadata": {
    "collapsed": true
   },
   "outputs": [],
   "source": []
  },
  {
   "cell_type": "code",
   "execution_count": 13,
   "metadata": {
    "collapsed": true
   },
   "outputs": [],
   "source": [
    "def check_actions(actions):\n",
    "    result = list()\n",
    "    for i, a in enumerate(actions):\n",
    "        action_lst = refer_new(a, cnts)\n",
    "        if np.any(action_lst):\n",
    "            print(\"%dth time step take action: \" % (i + 1) + str(action_lst))\n",
    "            "
   ]
  },
  {
   "cell_type": "code",
   "execution_count": 29,
   "metadata": {},
   "outputs": [
    {
     "name": "stdout",
     "output_type": "stream",
     "text": [
      "4th time step take action: [0, 1, 0]\n",
      "5th time step take action: [0, 1, 0]\n"
     ]
    }
   ],
   "source": [
    "check_actions(test_actions)"
   ]
  },
  {
   "cell_type": "code",
   "execution_count": 34,
   "metadata": {
    "collapsed": true
   },
   "outputs": [],
   "source": [
    "tt = test_observations\n",
    "xx = np.arange(len(tt))"
   ]
  },
  {
   "cell_type": "code",
   "execution_count": 35,
   "metadata": {},
   "outputs": [
    {
     "data": {
      "image/png": "[encoded data removed]",
      "text/plain": [
       "<matplotlib.figure.Figure at 0x7f0573d8f1d0>"
      ]
     },
     "metadata": {},
     "output_type": "display_data"
    }
   ],
   "source": [
    "idx = 13\n",
    "for j in range(idx,idx+ 1):\n",
    "    plt.plot(test_observations[:,j])\n",
    "    plt.show()"
   ]
  },
  {
   "cell_type": "code",
   "execution_count": 51,
   "metadata": {},
   "outputs": [
    {
     "data": {
      "text/plain": [
       "array([ 1.        ,  1.        ,  1.        ,  1.        ,  1.        ,\n",
       "        1.        ,  1.        ,  1.        ,  1.00893297,  0.98138364,\n",
       "        0.97314569,  0.97480137,  0.98712669,  0.96529677,  0.97123479,\n",
       "        1.0055619 ,  1.        ,  1.        ,  1.        ,  1.        ,\n",
       "        1.        ,  1.        ,  1.        ,  1.        ,  1.        ,\n",
       "        1.        ,  1.        ,  1.00893297,  0.98138364,  0.97314569,\n",
       "        0.97480137,  0.98712669,  0.96529677,  0.97123479,  1.0055619 ,\n",
       "        1.        ,  1.        ,  1.        ,  1.        ,  1.        ,\n",
       "        1.        ,  1.        ,  1.        ,  1.        ,  1.        ,\n",
       "        1.        ,  1.00893297,  0.98138364,  0.97314569,  0.97480137,\n",
       "        0.98712669,  0.96529677,  0.97123479,  1.0055619 ,  1.        ,\n",
       "        1.        ,  1.        ,  1.        ,  1.        ,  1.        ,\n",
       "        1.        ,  1.        ,  1.        ,  1.        ,  1.        ,\n",
       "        1.00893297,  0.98138364,  0.97314569,  0.97480137,  0.98712669,\n",
       "        0.96529677,  0.97123479,  1.0055619 ,  1.        ,  1.        ,  1.        ])"
      ]
     },
     "execution_count": 51,
     "metadata": {},
     "output_type": "execute_result"
    }
   ],
   "source": [
    "test_observations[0]"
   ]
  },
  {
   "cell_type": "code",
   "execution_count": 26,
   "metadata": {},
   "outputs": [
    {
     "data": {
      "image/png": "[encoded data removed]",
      "text/plain": [
       "<matplotlib.figure.Figure at 0x7f09a3645a58>"
      ]
     },
     "metadata": {},
     "output_type": "display_data"
    }
   ],
   "source": [
    "idx = 9\n",
    "for j in range(idx,idx+ 1):\n",
    "    #plt.plot(noaction_ob[:,j], color='r',label='noaction_ob')\n",
    "    #plt.plot(onepreaction_ob[:,j], color='g', label='onepreaction_ob')\n",
    "    plt.plot(validonepreaction_ob[:,j], color='b', label='validonepreaction_ob')\n",
    "    plt.plot(purevalidaction_ob[:,j], color='k', label='purevalidaction_ob')\n",
    "    plt.legend(loc=[1,0])\n",
    "    #plt.axis([0,10,0.950,1.0])\n",
    "    plt.xlim([0,30])\n",
    "    plt.grid(True)\n",
    "    plt.show()"
   ]
  },
  {
   "cell_type": "code",
   "execution_count": 63,
   "metadata": {},
   "outputs": [
    {
     "data": {
      "text/plain": [
       "array([ 1. ,  1. ,  1. ,  1. ,  1. ,  1. ,  1. ,  1. ,  1. ,  1. ,  1. ,\n",
       "        1. ,  1. ,  1. ,  0.7,  0.4,  0.4,  0.4,  0.4])"
      ]
     },
     "execution_count": 63,
     "metadata": {},
     "output_type": "execute_result"
    }
   ],
   "source": [
    "test_observations[1:20,16]"
   ]
  },
  {
   "cell_type": "code",
   "execution_count": null,
   "metadata": {
    "collapsed": true
   },
   "outputs": [],
   "source": []
  }
 ],
 "metadata": {
  "kernelspec": {
   "display_name": "Python 3",
   "language": "python",
   "name": "python3"
  },
  "language_info": {
   "codemirror_mode": {
    "name": "ipython",
    "version": 3
   },
   "file_extension": ".py",
   "mimetype": "text/x-python",
   "name": "python",
   "nbconvert_exporter": "python",
   "pygments_lexer": "ipython3",
   "version": "3.6.1"
  }
 },
 "nbformat": 4,
 "nbformat_minor": 2
}